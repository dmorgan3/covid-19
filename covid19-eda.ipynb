{
 "cells": [
  {
   "cell_type": "markdown",
   "metadata": {
    "id": "ahIRZj6K-3-o"
   },
   "source": [
    "# Chapter 7:  Data Science"
   ]
  },
  {
   "cell_type": "markdown",
   "metadata": {
    "id": "NS0R02LQwG_2"
   },
   "source": [
    "## Ingest"
   ]
  },
  {
   "cell_type": "markdown",
   "metadata": {
    "id": "NJntteRBwI46"
   },
   "source": [
    "*COVID-19 Data from [New York Times Github](https://github.com/nytimes/covid-19-data)*"
   ]
  },
  {
   "cell_type": "code",
   "execution_count": 1,
   "metadata": {
    "colab": {
     "base_uri": "https://localhost:8080/",
     "height": 202
    },
    "id": "1ABhk0OLwejq",
    "outputId": "985ccf95-9dfc-40fe-8281-6484b9bc3377"
   },
   "outputs": [
    {
     "data": {
      "text/html": [
       "<div>\n",
       "<style scoped>\n",
       "    .dataframe tbody tr th:only-of-type {\n",
       "        vertical-align: middle;\n",
       "    }\n",
       "\n",
       "    .dataframe tbody tr th {\n",
       "        vertical-align: top;\n",
       "    }\n",
       "\n",
       "    .dataframe thead th {\n",
       "        text-align: right;\n",
       "    }\n",
       "</style>\n",
       "<table border=\"1\" class=\"dataframe\">\n",
       "  <thead>\n",
       "    <tr style=\"text-align: right;\">\n",
       "      <th></th>\n",
       "      <th>date</th>\n",
       "      <th>state</th>\n",
       "      <th>fips</th>\n",
       "      <th>cases</th>\n",
       "      <th>deaths</th>\n",
       "    </tr>\n",
       "  </thead>\n",
       "  <tbody>\n",
       "    <tr>\n",
       "      <th>0</th>\n",
       "      <td>2020-01-21</td>\n",
       "      <td>Washington</td>\n",
       "      <td>53</td>\n",
       "      <td>1</td>\n",
       "      <td>0</td>\n",
       "    </tr>\n",
       "    <tr>\n",
       "      <th>1</th>\n",
       "      <td>2020-01-22</td>\n",
       "      <td>Washington</td>\n",
       "      <td>53</td>\n",
       "      <td>1</td>\n",
       "      <td>0</td>\n",
       "    </tr>\n",
       "    <tr>\n",
       "      <th>2</th>\n",
       "      <td>2020-01-23</td>\n",
       "      <td>Washington</td>\n",
       "      <td>53</td>\n",
       "      <td>1</td>\n",
       "      <td>0</td>\n",
       "    </tr>\n",
       "    <tr>\n",
       "      <th>3</th>\n",
       "      <td>2020-01-24</td>\n",
       "      <td>Illinois</td>\n",
       "      <td>17</td>\n",
       "      <td>1</td>\n",
       "      <td>0</td>\n",
       "    </tr>\n",
       "    <tr>\n",
       "      <th>4</th>\n",
       "      <td>2020-01-24</td>\n",
       "      <td>Washington</td>\n",
       "      <td>53</td>\n",
       "      <td>1</td>\n",
       "      <td>0</td>\n",
       "    </tr>\n",
       "  </tbody>\n",
       "</table>\n",
       "</div>"
      ],
      "text/plain": [
       "         date       state  fips  cases  deaths\n",
       "0  2020-01-21  Washington    53      1       0\n",
       "1  2020-01-22  Washington    53      1       0\n",
       "2  2020-01-23  Washington    53      1       0\n",
       "3  2020-01-24    Illinois    17      1       0\n",
       "4  2020-01-24  Washington    53      1       0"
      ]
     },
     "execution_count": 1,
     "metadata": {},
     "output_type": "execute_result"
    }
   ],
   "source": [
    "import pandas as pd\n",
    "#df = pd.read_csv(\"covid19.csv\")\n",
    "#df.to_csv(\"covid19.csv\", index=False)\n",
    "df = pd.read_csv(\"https://raw.githubusercontent.com/nytimes/covid-19-data/master/us-states.csv\")\n",
    "df.head()"
   ]
  },
  {
   "cell_type": "markdown",
   "metadata": {
    "id": "1iMW3XxnkUXF"
   },
   "source": [
    "Last five rows"
   ]
  },
  {
   "cell_type": "code",
   "execution_count": 3,
   "metadata": {
    "colab": {
     "base_uri": "https://localhost:8080/",
     "height": 202
    },
    "id": "opOpFijSkXR6",
    "outputId": "8425ed2f-b1b0-4516-a217-0f4efdf30d2a"
   },
   "outputs": [
    {
     "data": {
      "text/html": [
       "<div>\n",
       "<style scoped>\n",
       "    .dataframe tbody tr th:only-of-type {\n",
       "        vertical-align: middle;\n",
       "    }\n",
       "\n",
       "    .dataframe tbody tr th {\n",
       "        vertical-align: top;\n",
       "    }\n",
       "\n",
       "    .dataframe thead th {\n",
       "        text-align: right;\n",
       "    }\n",
       "</style>\n",
       "<table border=\"1\" class=\"dataframe\">\n",
       "  <thead>\n",
       "    <tr style=\"text-align: right;\">\n",
       "      <th></th>\n",
       "      <th>date</th>\n",
       "      <th>state</th>\n",
       "      <th>fips</th>\n",
       "      <th>cases</th>\n",
       "      <th>deaths</th>\n",
       "    </tr>\n",
       "  </thead>\n",
       "  <tbody>\n",
       "    <tr>\n",
       "      <th>61937</th>\n",
       "      <td>2023-03-23</td>\n",
       "      <td>Virginia</td>\n",
       "      <td>51</td>\n",
       "      <td>2298300</td>\n",
       "      <td>23782</td>\n",
       "    </tr>\n",
       "    <tr>\n",
       "      <th>61938</th>\n",
       "      <td>2023-03-23</td>\n",
       "      <td>Washington</td>\n",
       "      <td>53</td>\n",
       "      <td>1940704</td>\n",
       "      <td>15905</td>\n",
       "    </tr>\n",
       "    <tr>\n",
       "      <th>61939</th>\n",
       "      <td>2023-03-23</td>\n",
       "      <td>West Virginia</td>\n",
       "      <td>54</td>\n",
       "      <td>645710</td>\n",
       "      <td>8132</td>\n",
       "    </tr>\n",
       "    <tr>\n",
       "      <th>61940</th>\n",
       "      <td>2023-03-23</td>\n",
       "      <td>Wisconsin</td>\n",
       "      <td>55</td>\n",
       "      <td>2014524</td>\n",
       "      <td>16485</td>\n",
       "    </tr>\n",
       "    <tr>\n",
       "      <th>61941</th>\n",
       "      <td>2023-03-23</td>\n",
       "      <td>Wyoming</td>\n",
       "      <td>56</td>\n",
       "      <td>185800</td>\n",
       "      <td>2014</td>\n",
       "    </tr>\n",
       "  </tbody>\n",
       "</table>\n",
       "</div>"
      ],
      "text/plain": [
       "             date          state  fips    cases  deaths\n",
       "61937  2023-03-23       Virginia    51  2298300   23782\n",
       "61938  2023-03-23     Washington    53  1940704   15905\n",
       "61939  2023-03-23  West Virginia    54   645710    8132\n",
       "61940  2023-03-23      Wisconsin    55  2014524   16485\n",
       "61941  2023-03-23        Wyoming    56   185800    2014"
      ]
     },
     "execution_count": 3,
     "metadata": {},
     "output_type": "execute_result"
    }
   ],
   "source": [
    "df.tail()"
   ]
  },
  {
   "cell_type": "markdown",
   "metadata": {
    "id": "zr7wdjHswKfq"
   },
   "source": [
    "*What are the columns?*"
   ]
  },
  {
   "cell_type": "code",
   "execution_count": 4,
   "metadata": {
    "colab": {
     "base_uri": "https://localhost:8080/",
     "height": 35
    },
    "id": "DwAMxSNSwNWj",
    "outputId": "ebd41475-85cc-4166-de5c-5595b0d0e222"
   },
   "outputs": [
    {
     "data": {
      "text/plain": [
       "Index(['date', 'state', 'fips', 'cases', 'deaths'], dtype='object')"
      ]
     },
     "execution_count": 4,
     "metadata": {},
     "output_type": "execute_result"
    }
   ],
   "source": [
    "df.columns"
   ]
  },
  {
   "cell_type": "markdown",
   "metadata": {
    "id": "Q3njEtIJwSCi"
   },
   "source": [
    "*What is the shape:  i.e. rows,columns?*"
   ]
  },
  {
   "cell_type": "code",
   "execution_count": 5,
   "metadata": {
    "colab": {
     "base_uri": "https://localhost:8080/",
     "height": 35
    },
    "id": "kyCznu1cwUv_",
    "outputId": "fb5ea532-c126-4225-ba7e-ca71249245ba"
   },
   "outputs": [
    {
     "data": {
      "text/plain": [
       "(61942, 5)"
      ]
     },
     "execution_count": 5,
     "metadata": {},
     "output_type": "execute_result"
    }
   ],
   "source": [
    "df.shape"
   ]
  },
  {
   "cell_type": "markdown",
   "metadata": {
    "id": "PY_nFEZKwI7R"
   },
   "source": [
    "## EDA"
   ]
  },
  {
   "cell_type": "markdown",
   "metadata": {
    "id": "nNw9of3LiQjU"
   },
   "source": [
    "*What are general characteristics of the data?  A good way to find out is `df.describe`*"
   ]
  },
  {
   "cell_type": "code",
   "execution_count": 67,
   "metadata": {
    "colab": {
     "base_uri": "https://localhost:8080/",
     "height": 295
    },
    "id": "IHuBZouXCYAZ",
    "outputId": "8e4826ed-e1d1-46c0-da39-86188dffc763"
   },
   "outputs": [
    {
     "data": {
      "text/html": [
       "<div>\n",
       "<style scoped>\n",
       "    .dataframe tbody tr th:only-of-type {\n",
       "        vertical-align: middle;\n",
       "    }\n",
       "\n",
       "    .dataframe tbody tr th {\n",
       "        vertical-align: top;\n",
       "    }\n",
       "\n",
       "    .dataframe thead th {\n",
       "        text-align: right;\n",
       "    }\n",
       "</style>\n",
       "<table border=\"1\" class=\"dataframe\">\n",
       "  <thead>\n",
       "    <tr style=\"text-align: right;\">\n",
       "      <th></th>\n",
       "      <th>fips</th>\n",
       "      <th>cases</th>\n",
       "      <th>deaths</th>\n",
       "    </tr>\n",
       "  </thead>\n",
       "  <tbody>\n",
       "    <tr>\n",
       "      <th>count</th>\n",
       "      <td>61942.000000</td>\n",
       "      <td>6.194200e+04</td>\n",
       "      <td>61942.000000</td>\n",
       "    </tr>\n",
       "    <tr>\n",
       "      <th>mean</th>\n",
       "      <td>32.247958</td>\n",
       "      <td>8.898301e+05</td>\n",
       "      <td>11779.067499</td>\n",
       "    </tr>\n",
       "    <tr>\n",
       "      <th>std</th>\n",
       "      <td>18.788383</td>\n",
       "      <td>1.470231e+06</td>\n",
       "      <td>17345.774849</td>\n",
       "    </tr>\n",
       "    <tr>\n",
       "      <th>min</th>\n",
       "      <td>1.000000</td>\n",
       "      <td>1.000000e+00</td>\n",
       "      <td>0.000000</td>\n",
       "    </tr>\n",
       "    <tr>\n",
       "      <th>25%</th>\n",
       "      <td>17.000000</td>\n",
       "      <td>7.078350e+04</td>\n",
       "      <td>1171.000000</td>\n",
       "    </tr>\n",
       "    <tr>\n",
       "      <th>50%</th>\n",
       "      <td>31.000000</td>\n",
       "      <td>3.514960e+05</td>\n",
       "      <td>5035.000000</td>\n",
       "    </tr>\n",
       "    <tr>\n",
       "      <th>75%</th>\n",
       "      <td>46.000000</td>\n",
       "      <td>1.043231e+06</td>\n",
       "      <td>14912.000000</td>\n",
       "    </tr>\n",
       "    <tr>\n",
       "      <th>max</th>\n",
       "      <td>78.000000</td>\n",
       "      <td>1.216916e+07</td>\n",
       "      <td>104277.000000</td>\n",
       "    </tr>\n",
       "  </tbody>\n",
       "</table>\n",
       "</div>"
      ],
      "text/plain": [
       "               fips         cases         deaths\n",
       "count  61942.000000  6.194200e+04   61942.000000\n",
       "mean      32.247958  8.898301e+05   11779.067499\n",
       "std       18.788383  1.470231e+06   17345.774849\n",
       "min        1.000000  1.000000e+00       0.000000\n",
       "25%       17.000000  7.078350e+04    1171.000000\n",
       "50%       31.000000  3.514960e+05    5035.000000\n",
       "75%       46.000000  1.043231e+06   14912.000000\n",
       "max       78.000000  1.216916e+07  104277.000000"
      ]
     },
     "execution_count": 67,
     "metadata": {},
     "output_type": "execute_result"
    }
   ],
   "source": [
    "df.describe()"
   ]
  },
  {
   "cell_type": "markdown",
   "metadata": {
    "id": "3YtAIL7HFjOw"
   },
   "source": [
    "*Cases and Deaths in the USA due to Covid-19*"
   ]
  },
  {
   "cell_type": "code",
   "execution_count": 8,
   "metadata": {
    "colab": {
     "base_uri": "https://localhost:8080/",
     "height": 297
    },
    "id": "C9vXU4_fCj-8",
    "outputId": "eb684f08-960c-4847-a492-150e26343549"
   },
   "outputs": [
    {
     "data": {
      "text/plain": [
       "<matplotlib.axes._subplots.AxesSubplot at 0x7f69d6413cd0>"
      ]
     },
     "execution_count": 8,
     "metadata": {},
     "output_type": "execute_result"
    },
    {
     "data": {
      "image/png": "[encoded data removed]",
      "text/plain": [
       "<Figure size 432x288 with 1 Axes>"
      ]
     },
     "metadata": {
      "needs_background": "light"
     },
     "output_type": "display_data"
    }
   ],
   "source": [
    "import seaborn as sns\n",
    "sns.scatterplot(x=\"cases\", y=\"deaths\", \n",
    "                hue=\"deaths\",size=\"deaths\", data=df)"
   ]
  },
  {
   "cell_type": "markdown",
   "metadata": {
    "id": "O_pRge294dFK"
   },
   "source": [
    "### Date-based EDA"
   ]
  },
  {
   "cell_type": "markdown",
   "metadata": {
    "id": "TSVSSgwev-Pp"
   },
   "source": [
    "*Dealing with dates by setting index*"
   ]
  },
  {
   "cell_type": "code",
   "execution_count": 40,
   "metadata": {
    "colab": {
     "base_uri": "https://localhost:8080/",
     "height": 179
    },
    "id": "KOzYb89evmrr",
    "outputId": "327c031d-ee8b-4ae0-8683-5b1fa4e1a1d0"
   },
   "outputs": [
    {
     "name": "stdout",
     "output_type": "stream",
     "text": [
      "Columns: Index(['state', 'fips', 'cases', 'deaths'], dtype='object')\n"
     ]
    },
    {
     "data": {
      "text/plain": [
       "DatetimeIndex(['2020-01-21', '2020-01-22', '2020-01-23', '2020-01-24',\n",
       "               '2020-01-24', '2020-01-25', '2020-01-25', '2020-01-25',\n",
       "               '2020-01-26', '2020-01-26',\n",
       "               ...\n",
       "               '2023-03-23', '2023-03-23', '2023-03-23', '2023-03-23',\n",
       "               '2023-03-23', '2023-03-23', '2023-03-23', '2023-03-23',\n",
       "               '2023-03-23', '2023-03-23'],\n",
       "              dtype='datetime64[ns]', name='date', length=61942, freq=None)"
      ]
     },
     "execution_count": 40,
     "metadata": {},
     "output_type": "execute_result"
    }
   ],
   "source": [
    "df = pd.read_csv(\"https://raw.githubusercontent.com/nytimes/covid-19-data/master/us-states.csv\")\n",
    "df[\"date\"] = pd.to_datetime(df[\"date\"])\n",
    "df = df.set_index(\"date\")\n",
    "print(f\"Columns: {df.columns}\")\n",
    "df.index"
   ]
  },
  {
   "cell_type": "markdown",
   "metadata": {
    "id": "ULM1KdpWijcS"
   },
   "source": [
    "*Filter results by date range*"
   ]
  },
  {
   "cell_type": "code",
   "execution_count": 41,
   "metadata": {
    "colab": {
     "base_uri": "https://localhost:8080/",
     "height": 53
    },
    "id": "O1ennZNsvlJx",
    "outputId": "32bbc404-d549-4e6e-c578-05fca252fbe0"
   },
   "outputs": [
    {
     "name": "stdout",
     "output_type": "stream",
     "text": [
      "Today 2023-08-02\n",
      "Two days ago 2023-07-31\n"
     ]
    }
   ],
   "source": [
    "from datetime import date, timedelta\n",
    "today = date.today()\n",
    "daybefore = today - timedelta(days = 2)\n",
    "print(f\"Today {today}\")\n",
    "print(f\"Two days ago {daybefore}\") "
   ]
  },
  {
   "cell_type": "code",
   "execution_count": 42,
   "metadata": {
    "colab": {
     "base_uri": "https://localhost:8080/",
     "height": 233
    },
    "id": "7zuHpxkm1sTA",
    "outputId": "ab87d37c-7186-479d-fc0d-83a69780a66d"
   },
   "outputs": [
    {
     "data": {
      "text/html": [
       "<div>\n",
       "<style scoped>\n",
       "    .dataframe tbody tr th:only-of-type {\n",
       "        vertical-align: middle;\n",
       "    }\n",
       "\n",
       "    .dataframe tbody tr th {\n",
       "        vertical-align: top;\n",
       "    }\n",
       "\n",
       "    .dataframe thead th {\n",
       "        text-align: right;\n",
       "    }\n",
       "</style>\n",
       "<table border=\"1\" class=\"dataframe\">\n",
       "  <thead>\n",
       "    <tr style=\"text-align: right;\">\n",
       "      <th></th>\n",
       "      <th>state</th>\n",
       "      <th>fips</th>\n",
       "      <th>cases</th>\n",
       "      <th>deaths</th>\n",
       "    </tr>\n",
       "    <tr>\n",
       "      <th>date</th>\n",
       "      <th></th>\n",
       "      <th></th>\n",
       "      <th></th>\n",
       "      <th></th>\n",
       "    </tr>\n",
       "  </thead>\n",
       "  <tbody>\n",
       "  </tbody>\n",
       "</table>\n",
       "</div>"
      ],
      "text/plain": [
       "Empty DataFrame\n",
       "Columns: [state, fips, cases, deaths]\n",
       "Index: []"
      ]
     },
     "execution_count": 42,
     "metadata": {},
     "output_type": "execute_result"
    }
   ],
   "source": [
    "df.loc[daybefore:today].head()"
   ]
  },
  {
   "cell_type": "code",
   "execution_count": 43,
   "metadata": {},
   "outputs": [
    {
     "data": {
      "text/html": [
       "<div>\n",
       "<style scoped>\n",
       "    .dataframe tbody tr th:only-of-type {\n",
       "        vertical-align: middle;\n",
       "    }\n",
       "\n",
       "    .dataframe tbody tr th {\n",
       "        vertical-align: top;\n",
       "    }\n",
       "\n",
       "    .dataframe thead th {\n",
       "        text-align: right;\n",
       "    }\n",
       "</style>\n",
       "<table border=\"1\" class=\"dataframe\">\n",
       "  <thead>\n",
       "    <tr style=\"text-align: right;\">\n",
       "      <th></th>\n",
       "      <th>state</th>\n",
       "      <th>fips</th>\n",
       "      <th>cases</th>\n",
       "      <th>deaths</th>\n",
       "    </tr>\n",
       "    <tr>\n",
       "      <th>date</th>\n",
       "      <th></th>\n",
       "      <th></th>\n",
       "      <th></th>\n",
       "      <th></th>\n",
       "    </tr>\n",
       "  </thead>\n",
       "  <tbody>\n",
       "    <tr>\n",
       "      <th>2020-08-02</th>\n",
       "      <td>Alabama</td>\n",
       "      <td>1</td>\n",
       "      <td>91444</td>\n",
       "      <td>1627</td>\n",
       "    </tr>\n",
       "    <tr>\n",
       "      <th>2020-08-02</th>\n",
       "      <td>Alaska</td>\n",
       "      <td>2</td>\n",
       "      <td>3982</td>\n",
       "      <td>22</td>\n",
       "    </tr>\n",
       "    <tr>\n",
       "      <th>2020-08-02</th>\n",
       "      <td>Arizona</td>\n",
       "      <td>4</td>\n",
       "      <td>178473</td>\n",
       "      <td>3769</td>\n",
       "    </tr>\n",
       "    <tr>\n",
       "      <th>2020-08-02</th>\n",
       "      <td>Arkansas</td>\n",
       "      <td>5</td>\n",
       "      <td>43810</td>\n",
       "      <td>464</td>\n",
       "    </tr>\n",
       "    <tr>\n",
       "      <th>2020-08-02</th>\n",
       "      <td>California</td>\n",
       "      <td>6</td>\n",
       "      <td>515937</td>\n",
       "      <td>9399</td>\n",
       "    </tr>\n",
       "  </tbody>\n",
       "</table>\n",
       "</div>"
      ],
      "text/plain": [
       "                 state  fips   cases  deaths\n",
       "date                                        \n",
       "2020-08-02     Alabama     1   91444    1627\n",
       "2020-08-02      Alaska     2    3982      22\n",
       "2020-08-02     Arizona     4  178473    3769\n",
       "2020-08-02    Arkansas     5   43810     464\n",
       "2020-08-02  California     6  515937    9399"
      ]
     },
     "execution_count": 43,
     "metadata": {},
     "output_type": "execute_result"
    }
   ],
   "source": [
    "past_date = \"2020-08-02\"\n",
    "df.loc[past_date].head()"
   ]
  },
  {
   "cell_type": "markdown",
   "metadata": {
    "id": "Ek_hurrf5FFi"
   },
   "source": [
    "*The distribution of the data by date*"
   ]
  },
  {
   "cell_type": "code",
   "execution_count": 44,
   "metadata": {
    "colab": {
     "base_uri": "https://localhost:8080/",
     "height": 283
    },
    "id": "SHl20wNuiuMw",
    "outputId": "720f5839-d7ac-444f-9f53-f65c598ece8a"
   },
   "outputs": [
    {
     "data": {
      "text/plain": [
       "<matplotlib.axes._subplots.AxesSubplot at 0x7f69d64b29d0>"
      ]
     },
     "execution_count": 44,
     "metadata": {},
     "output_type": "execute_result"
    },
    {
     "data": {
      "image/png": "[encoded data removed]",
      "text/plain": [
       "<Figure size 432x288 with 1 Axes>"
      ]
     },
     "metadata": {
      "needs_background": "light"
     },
     "output_type": "display_data"
    }
   ],
   "source": [
    "sns.kdeplot(df.loc[daybefore:today][\"deaths\"], shade=True)"
   ]
  },
  {
   "cell_type": "code",
   "execution_count": 48,
   "metadata": {},
   "outputs": [
    {
     "data": {
      "text/plain": [
       "<matplotlib.axes._subplots.AxesSubplot at 0x7f69d42f0e10>"
      ]
     },
     "execution_count": 48,
     "metadata": {},
     "output_type": "execute_result"
    },
    {
     "data": {
      "image/png": "[encoded data removed]",
      "text/plain": [
       "<Figure size 432x288 with 1 Axes>"
      ]
     },
     "metadata": {
      "needs_background": "light"
     },
     "output_type": "display_data"
    }
   ],
   "source": [
    "sns.kdeplot(df.loc[past_date][\"deaths\"], shade=True)"
   ]
  },
  {
   "cell_type": "markdown",
   "metadata": {
    "id": "ehV0NJINmR5S"
   },
   "source": [
    "*Sort DataFrame in place by states with highest deaths and cases and show first 10 results*"
   ]
  },
  {
   "cell_type": "code",
   "execution_count": 45,
   "metadata": {
    "colab": {
     "base_uri": "https://localhost:8080/",
     "height": 387
    },
    "id": "8QcPkd6CnH6q",
    "outputId": "0e30a007-7af4-4adb-e56b-c5e62e0e41e7"
   },
   "outputs": [
    {
     "data": {
      "text/html": [
       "<div>\n",
       "<style scoped>\n",
       "    .dataframe tbody tr th:only-of-type {\n",
       "        vertical-align: middle;\n",
       "    }\n",
       "\n",
       "    .dataframe tbody tr th {\n",
       "        vertical-align: top;\n",
       "    }\n",
       "\n",
       "    .dataframe thead th {\n",
       "        text-align: right;\n",
       "    }\n",
       "</style>\n",
       "<table border=\"1\" class=\"dataframe\">\n",
       "  <thead>\n",
       "    <tr style=\"text-align: right;\">\n",
       "      <th></th>\n",
       "      <th>state</th>\n",
       "      <th>fips</th>\n",
       "      <th>cases</th>\n",
       "      <th>deaths</th>\n",
       "    </tr>\n",
       "    <tr>\n",
       "      <th>date</th>\n",
       "      <th></th>\n",
       "      <th></th>\n",
       "      <th></th>\n",
       "      <th></th>\n",
       "    </tr>\n",
       "  </thead>\n",
       "  <tbody>\n",
       "  </tbody>\n",
       "</table>\n",
       "</div>"
      ],
      "text/plain": [
       "Empty DataFrame\n",
       "Columns: [state, fips, cases, deaths]\n",
       "Index: []"
      ]
     },
     "execution_count": 45,
     "metadata": {},
     "output_type": "execute_result"
    }
   ],
   "source": [
    "current_df = df.loc[daybefore:today].sort_values(by=[\"deaths\", \"cases\"], ascending=False)\n",
    "current_df.head(10)"
   ]
  },
  {
   "cell_type": "code",
   "execution_count": 46,
   "metadata": {},
   "outputs": [
    {
     "data": {
      "text/html": [
       "<div>\n",
       "<style scoped>\n",
       "    .dataframe tbody tr th:only-of-type {\n",
       "        vertical-align: middle;\n",
       "    }\n",
       "\n",
       "    .dataframe tbody tr th {\n",
       "        vertical-align: top;\n",
       "    }\n",
       "\n",
       "    .dataframe thead th {\n",
       "        text-align: right;\n",
       "    }\n",
       "</style>\n",
       "<table border=\"1\" class=\"dataframe\">\n",
       "  <thead>\n",
       "    <tr style=\"text-align: right;\">\n",
       "      <th></th>\n",
       "      <th>state</th>\n",
       "      <th>fips</th>\n",
       "      <th>cases</th>\n",
       "      <th>deaths</th>\n",
       "    </tr>\n",
       "    <tr>\n",
       "      <th>date</th>\n",
       "      <th></th>\n",
       "      <th></th>\n",
       "      <th></th>\n",
       "      <th></th>\n",
       "    </tr>\n",
       "  </thead>\n",
       "  <tbody>\n",
       "    <tr>\n",
       "      <th>2020-08-02</th>\n",
       "      <td>New York</td>\n",
       "      <td>36</td>\n",
       "      <td>421008</td>\n",
       "      <td>32401</td>\n",
       "    </tr>\n",
       "    <tr>\n",
       "      <th>2020-08-02</th>\n",
       "      <td>New Jersey</td>\n",
       "      <td>34</td>\n",
       "      <td>184225</td>\n",
       "      <td>15836</td>\n",
       "    </tr>\n",
       "    <tr>\n",
       "      <th>2020-08-02</th>\n",
       "      <td>California</td>\n",
       "      <td>6</td>\n",
       "      <td>515937</td>\n",
       "      <td>9399</td>\n",
       "    </tr>\n",
       "    <tr>\n",
       "      <th>2020-08-02</th>\n",
       "      <td>Massachusetts</td>\n",
       "      <td>25</td>\n",
       "      <td>118458</td>\n",
       "      <td>8638</td>\n",
       "    </tr>\n",
       "    <tr>\n",
       "      <th>2020-08-02</th>\n",
       "      <td>Illinois</td>\n",
       "      <td>17</td>\n",
       "      <td>183714</td>\n",
       "      <td>7718</td>\n",
       "    </tr>\n",
       "    <tr>\n",
       "      <th>2020-08-02</th>\n",
       "      <td>Texas</td>\n",
       "      <td>48</td>\n",
       "      <td>454759</td>\n",
       "      <td>7520</td>\n",
       "    </tr>\n",
       "    <tr>\n",
       "      <th>2020-08-02</th>\n",
       "      <td>Pennsylvania</td>\n",
       "      <td>42</td>\n",
       "      <td>118038</td>\n",
       "      <td>7274</td>\n",
       "    </tr>\n",
       "    <tr>\n",
       "      <th>2020-08-02</th>\n",
       "      <td>Florida</td>\n",
       "      <td>12</td>\n",
       "      <td>487124</td>\n",
       "      <td>7083</td>\n",
       "    </tr>\n",
       "    <tr>\n",
       "      <th>2020-08-02</th>\n",
       "      <td>Michigan</td>\n",
       "      <td>26</td>\n",
       "      <td>91857</td>\n",
       "      <td>6460</td>\n",
       "    </tr>\n",
       "    <tr>\n",
       "      <th>2020-08-02</th>\n",
       "      <td>Connecticut</td>\n",
       "      <td>9</td>\n",
       "      <td>49810</td>\n",
       "      <td>4432</td>\n",
       "    </tr>\n",
       "  </tbody>\n",
       "</table>\n",
       "</div>"
      ],
      "text/plain": [
       "                    state  fips   cases  deaths\n",
       "date                                           \n",
       "2020-08-02       New York    36  421008   32401\n",
       "2020-08-02     New Jersey    34  184225   15836\n",
       "2020-08-02     California     6  515937    9399\n",
       "2020-08-02  Massachusetts    25  118458    8638\n",
       "2020-08-02       Illinois    17  183714    7718\n",
       "2020-08-02          Texas    48  454759    7520\n",
       "2020-08-02   Pennsylvania    42  118038    7274\n",
       "2020-08-02        Florida    12  487124    7083\n",
       "2020-08-02       Michigan    26   91857    6460\n",
       "2020-08-02    Connecticut     9   49810    4432"
      ]
     },
     "execution_count": 46,
     "metadata": {},
     "output_type": "execute_result"
    }
   ],
   "source": [
    "current_df = df.loc[past_date].sort_values(by=[\"deaths\", \"cases\"], ascending=False)\n",
    "current_df.head(10)"
   ]
  },
  {
   "cell_type": "markdown",
   "metadata": {
    "id": "OSNzoid28GEX"
   },
   "source": [
    "*There should be 50 states and District of Columbia*"
   ]
  },
  {
   "cell_type": "code",
   "execution_count": 49,
   "metadata": {
    "colab": {
     "base_uri": "https://localhost:8080/",
     "height": 35
    },
    "id": "Ktah9SqV8I3i",
    "outputId": "2b0bb5eb-1186-405a-fb87-0cf89cffe8e0"
   },
   "outputs": [
    {
     "data": {
      "text/plain": [
       "(55, 4)"
      ]
     },
     "execution_count": 49,
     "metadata": {},
     "output_type": "execute_result"
    }
   ],
   "source": [
    "current_df.shape"
   ]
  },
  {
   "cell_type": "code",
   "execution_count": 66,
   "metadata": {},
   "outputs": [
    {
     "data": {
      "text/html": [
       "<div>\n",
       "<style scoped>\n",
       "    .dataframe tbody tr th:only-of-type {\n",
       "        vertical-align: middle;\n",
       "    }\n",
       "\n",
       "    .dataframe tbody tr th {\n",
       "        vertical-align: top;\n",
       "    }\n",
       "\n",
       "    .dataframe thead th {\n",
       "        text-align: right;\n",
       "    }\n",
       "</style>\n",
       "<table border=\"1\" class=\"dataframe\">\n",
       "  <thead>\n",
       "    <tr style=\"text-align: right;\">\n",
       "      <th></th>\n",
       "      <th>state</th>\n",
       "      <th>fips</th>\n",
       "      <th>cases</th>\n",
       "      <th>deaths</th>\n",
       "    </tr>\n",
       "    <tr>\n",
       "      <th>date</th>\n",
       "      <th></th>\n",
       "      <th></th>\n",
       "      <th></th>\n",
       "      <th></th>\n",
       "    </tr>\n",
       "  </thead>\n",
       "  <tbody>\n",
       "    <tr>\n",
       "      <th>2020-08-02</th>\n",
       "      <td>New York</td>\n",
       "      <td>36</td>\n",
       "      <td>421008</td>\n",
       "      <td>32401</td>\n",
       "    </tr>\n",
       "    <tr>\n",
       "      <th>2020-08-02</th>\n",
       "      <td>New Jersey</td>\n",
       "      <td>34</td>\n",
       "      <td>184225</td>\n",
       "      <td>15836</td>\n",
       "    </tr>\n",
       "    <tr>\n",
       "      <th>2020-08-02</th>\n",
       "      <td>California</td>\n",
       "      <td>6</td>\n",
       "      <td>515937</td>\n",
       "      <td>9399</td>\n",
       "    </tr>\n",
       "    <tr>\n",
       "      <th>2020-08-02</th>\n",
       "      <td>Massachusetts</td>\n",
       "      <td>25</td>\n",
       "      <td>118458</td>\n",
       "      <td>8638</td>\n",
       "    </tr>\n",
       "    <tr>\n",
       "      <th>2020-08-02</th>\n",
       "      <td>Illinois</td>\n",
       "      <td>17</td>\n",
       "      <td>183714</td>\n",
       "      <td>7718</td>\n",
       "    </tr>\n",
       "    <tr>\n",
       "      <th>2020-08-02</th>\n",
       "      <td>Texas</td>\n",
       "      <td>48</td>\n",
       "      <td>454759</td>\n",
       "      <td>7520</td>\n",
       "    </tr>\n",
       "    <tr>\n",
       "      <th>2020-08-02</th>\n",
       "      <td>Pennsylvania</td>\n",
       "      <td>42</td>\n",
       "      <td>118038</td>\n",
       "      <td>7274</td>\n",
       "    </tr>\n",
       "    <tr>\n",
       "      <th>2020-08-02</th>\n",
       "      <td>Florida</td>\n",
       "      <td>12</td>\n",
       "      <td>487124</td>\n",
       "      <td>7083</td>\n",
       "    </tr>\n",
       "    <tr>\n",
       "      <th>2020-08-02</th>\n",
       "      <td>Michigan</td>\n",
       "      <td>26</td>\n",
       "      <td>91857</td>\n",
       "      <td>6460</td>\n",
       "    </tr>\n",
       "    <tr>\n",
       "      <th>2020-08-02</th>\n",
       "      <td>Connecticut</td>\n",
       "      <td>9</td>\n",
       "      <td>49810</td>\n",
       "      <td>4432</td>\n",
       "    </tr>\n",
       "    <tr>\n",
       "      <th>2020-08-02</th>\n",
       "      <td>Louisiana</td>\n",
       "      <td>22</td>\n",
       "      <td>119861</td>\n",
       "      <td>4007</td>\n",
       "    </tr>\n",
       "    <tr>\n",
       "      <th>2020-08-02</th>\n",
       "      <td>Arizona</td>\n",
       "      <td>4</td>\n",
       "      <td>178473</td>\n",
       "      <td>3769</td>\n",
       "    </tr>\n",
       "    <tr>\n",
       "      <th>2020-08-02</th>\n",
       "      <td>Georgia</td>\n",
       "      <td>13</td>\n",
       "      <td>177556</td>\n",
       "      <td>3758</td>\n",
       "    </tr>\n",
       "    <tr>\n",
       "      <th>2020-08-02</th>\n",
       "      <td>Ohio</td>\n",
       "      <td>39</td>\n",
       "      <td>93031</td>\n",
       "      <td>3529</td>\n",
       "    </tr>\n",
       "    <tr>\n",
       "      <th>2020-08-02</th>\n",
       "      <td>Maryland</td>\n",
       "      <td>24</td>\n",
       "      <td>90835</td>\n",
       "      <td>3515</td>\n",
       "    </tr>\n",
       "    <tr>\n",
       "      <th>2020-08-02</th>\n",
       "      <td>Indiana</td>\n",
       "      <td>18</td>\n",
       "      <td>69531</td>\n",
       "      <td>2975</td>\n",
       "    </tr>\n",
       "    <tr>\n",
       "      <th>2020-08-02</th>\n",
       "      <td>Virginia</td>\n",
       "      <td>51</td>\n",
       "      <td>91782</td>\n",
       "      <td>2218</td>\n",
       "    </tr>\n",
       "    <tr>\n",
       "      <th>2020-08-02</th>\n",
       "      <td>North Carolina</td>\n",
       "      <td>37</td>\n",
       "      <td>125281</td>\n",
       "      <td>1996</td>\n",
       "    </tr>\n",
       "    <tr>\n",
       "      <th>2020-08-02</th>\n",
       "      <td>Colorado</td>\n",
       "      <td>8</td>\n",
       "      <td>47799</td>\n",
       "      <td>1846</td>\n",
       "    </tr>\n",
       "    <tr>\n",
       "      <th>2020-08-02</th>\n",
       "      <td>South Carolina</td>\n",
       "      <td>45</td>\n",
       "      <td>91788</td>\n",
       "      <td>1777</td>\n",
       "    </tr>\n",
       "    <tr>\n",
       "      <th>2020-08-02</th>\n",
       "      <td>Mississippi</td>\n",
       "      <td>28</td>\n",
       "      <td>60553</td>\n",
       "      <td>1703</td>\n",
       "    </tr>\n",
       "    <tr>\n",
       "      <th>2020-08-02</th>\n",
       "      <td>Washington</td>\n",
       "      <td>53</td>\n",
       "      <td>60160</td>\n",
       "      <td>1679</td>\n",
       "    </tr>\n",
       "    <tr>\n",
       "      <th>2020-08-02</th>\n",
       "      <td>Minnesota</td>\n",
       "      <td>27</td>\n",
       "      <td>55987</td>\n",
       "      <td>1654</td>\n",
       "    </tr>\n",
       "    <tr>\n",
       "      <th>2020-08-02</th>\n",
       "      <td>Alabama</td>\n",
       "      <td>1</td>\n",
       "      <td>91444</td>\n",
       "      <td>1627</td>\n",
       "    </tr>\n",
       "    <tr>\n",
       "      <th>2020-08-02</th>\n",
       "      <td>Missouri</td>\n",
       "      <td>29</td>\n",
       "      <td>52577</td>\n",
       "      <td>1311</td>\n",
       "    </tr>\n",
       "    <tr>\n",
       "      <th>2020-08-02</th>\n",
       "      <td>Tennessee</td>\n",
       "      <td>47</td>\n",
       "      <td>106804</td>\n",
       "      <td>1062</td>\n",
       "    </tr>\n",
       "    <tr>\n",
       "      <th>2020-08-02</th>\n",
       "      <td>Rhode Island</td>\n",
       "      <td>44</td>\n",
       "      <td>19022</td>\n",
       "      <td>1007</td>\n",
       "    </tr>\n",
       "    <tr>\n",
       "      <th>2020-08-02</th>\n",
       "      <td>Wisconsin</td>\n",
       "      <td>55</td>\n",
       "      <td>58990</td>\n",
       "      <td>956</td>\n",
       "    </tr>\n",
       "    <tr>\n",
       "      <th>2020-08-02</th>\n",
       "      <td>Iowa</td>\n",
       "      <td>19</td>\n",
       "      <td>45723</td>\n",
       "      <td>878</td>\n",
       "    </tr>\n",
       "    <tr>\n",
       "      <th>2020-08-02</th>\n",
       "      <td>Nevada</td>\n",
       "      <td>32</td>\n",
       "      <td>50270</td>\n",
       "      <td>833</td>\n",
       "    </tr>\n",
       "    <tr>\n",
       "      <th>2020-08-02</th>\n",
       "      <td>Kentucky</td>\n",
       "      <td>21</td>\n",
       "      <td>31966</td>\n",
       "      <td>759</td>\n",
       "    </tr>\n",
       "    <tr>\n",
       "      <th>2020-08-02</th>\n",
       "      <td>New Mexico</td>\n",
       "      <td>35</td>\n",
       "      <td>21016</td>\n",
       "      <td>654</td>\n",
       "    </tr>\n",
       "    <tr>\n",
       "      <th>2020-08-02</th>\n",
       "      <td>District of Columbia</td>\n",
       "      <td>11</td>\n",
       "      <td>12274</td>\n",
       "      <td>586</td>\n",
       "    </tr>\n",
       "    <tr>\n",
       "      <th>2020-08-02</th>\n",
       "      <td>Delaware</td>\n",
       "      <td>10</td>\n",
       "      <td>14949</td>\n",
       "      <td>585</td>\n",
       "    </tr>\n",
       "    <tr>\n",
       "      <th>2020-08-02</th>\n",
       "      <td>Oklahoma</td>\n",
       "      <td>40</td>\n",
       "      <td>38201</td>\n",
       "      <td>550</td>\n",
       "    </tr>\n",
       "    <tr>\n",
       "      <th>2020-08-02</th>\n",
       "      <td>Arkansas</td>\n",
       "      <td>5</td>\n",
       "      <td>43810</td>\n",
       "      <td>464</td>\n",
       "    </tr>\n",
       "    <tr>\n",
       "      <th>2020-08-02</th>\n",
       "      <td>New Hampshire</td>\n",
       "      <td>33</td>\n",
       "      <td>6634</td>\n",
       "      <td>417</td>\n",
       "    </tr>\n",
       "    <tr>\n",
       "      <th>2020-08-02</th>\n",
       "      <td>Kansas</td>\n",
       "      <td>20</td>\n",
       "      <td>28341</td>\n",
       "      <td>361</td>\n",
       "    </tr>\n",
       "    <tr>\n",
       "      <th>2020-08-02</th>\n",
       "      <td>Nebraska</td>\n",
       "      <td>31</td>\n",
       "      <td>26702</td>\n",
       "      <td>338</td>\n",
       "    </tr>\n",
       "    <tr>\n",
       "      <th>2020-08-02</th>\n",
       "      <td>Oregon</td>\n",
       "      <td>41</td>\n",
       "      <td>19097</td>\n",
       "      <td>331</td>\n",
       "    </tr>\n",
       "    <tr>\n",
       "      <th>2020-08-02</th>\n",
       "      <td>Utah</td>\n",
       "      <td>49</td>\n",
       "      <td>41175</td>\n",
       "      <td>313</td>\n",
       "    </tr>\n",
       "    <tr>\n",
       "      <th>2020-08-02</th>\n",
       "      <td>Puerto Rico</td>\n",
       "      <td>72</td>\n",
       "      <td>18411</td>\n",
       "      <td>230</td>\n",
       "    </tr>\n",
       "    <tr>\n",
       "      <th>2020-08-02</th>\n",
       "      <td>Idaho</td>\n",
       "      <td>16</td>\n",
       "      <td>21465</td>\n",
       "      <td>197</td>\n",
       "    </tr>\n",
       "    <tr>\n",
       "      <th>2020-08-02</th>\n",
       "      <td>South Dakota</td>\n",
       "      <td>46</td>\n",
       "      <td>8955</td>\n",
       "      <td>135</td>\n",
       "    </tr>\n",
       "    <tr>\n",
       "      <th>2020-08-02</th>\n",
       "      <td>Maine</td>\n",
       "      <td>23</td>\n",
       "      <td>3958</td>\n",
       "      <td>123</td>\n",
       "    </tr>\n",
       "    <tr>\n",
       "      <th>2020-08-02</th>\n",
       "      <td>West Virginia</td>\n",
       "      <td>54</td>\n",
       "      <td>6854</td>\n",
       "      <td>117</td>\n",
       "    </tr>\n",
       "    <tr>\n",
       "      <th>2020-08-02</th>\n",
       "      <td>North Dakota</td>\n",
       "      <td>38</td>\n",
       "      <td>6664</td>\n",
       "      <td>109</td>\n",
       "    </tr>\n",
       "    <tr>\n",
       "      <th>2020-08-02</th>\n",
       "      <td>Montana</td>\n",
       "      <td>30</td>\n",
       "      <td>4193</td>\n",
       "      <td>61</td>\n",
       "    </tr>\n",
       "    <tr>\n",
       "      <th>2020-08-02</th>\n",
       "      <td>Vermont</td>\n",
       "      <td>50</td>\n",
       "      <td>1426</td>\n",
       "      <td>57</td>\n",
       "    </tr>\n",
       "    <tr>\n",
       "      <th>2020-08-02</th>\n",
       "      <td>Wyoming</td>\n",
       "      <td>56</td>\n",
       "      <td>2808</td>\n",
       "      <td>26</td>\n",
       "    </tr>\n",
       "    <tr>\n",
       "      <th>2020-08-02</th>\n",
       "      <td>Hawaii</td>\n",
       "      <td>15</td>\n",
       "      <td>2219</td>\n",
       "      <td>25</td>\n",
       "    </tr>\n",
       "    <tr>\n",
       "      <th>2020-08-02</th>\n",
       "      <td>Alaska</td>\n",
       "      <td>2</td>\n",
       "      <td>3982</td>\n",
       "      <td>22</td>\n",
       "    </tr>\n",
       "    <tr>\n",
       "      <th>2020-08-02</th>\n",
       "      <td>Virgin Islands</td>\n",
       "      <td>78</td>\n",
       "      <td>421</td>\n",
       "      <td>8</td>\n",
       "    </tr>\n",
       "    <tr>\n",
       "      <th>2020-08-02</th>\n",
       "      <td>Guam</td>\n",
       "      <td>66</td>\n",
       "      <td>1328</td>\n",
       "      <td>6</td>\n",
       "    </tr>\n",
       "    <tr>\n",
       "      <th>2020-08-02</th>\n",
       "      <td>Northern Mariana Islands</td>\n",
       "      <td>69</td>\n",
       "      <td>45</td>\n",
       "      <td>2</td>\n",
       "    </tr>\n",
       "  </tbody>\n",
       "</table>\n",
       "</div>"
      ],
      "text/plain": [
       "                               state  fips   cases  deaths\n",
       "date                                                      \n",
       "2020-08-02                  New York    36  421008   32401\n",
       "2020-08-02                New Jersey    34  184225   15836\n",
       "2020-08-02                California     6  515937    9399\n",
       "2020-08-02             Massachusetts    25  118458    8638\n",
       "2020-08-02                  Illinois    17  183714    7718\n",
       "2020-08-02                     Texas    48  454759    7520\n",
       "2020-08-02              Pennsylvania    42  118038    7274\n",
       "2020-08-02                   Florida    12  487124    7083\n",
       "2020-08-02                  Michigan    26   91857    6460\n",
       "2020-08-02               Connecticut     9   49810    4432\n",
       "2020-08-02                 Louisiana    22  119861    4007\n",
       "2020-08-02                   Arizona     4  178473    3769\n",
       "2020-08-02                   Georgia    13  177556    3758\n",
       "2020-08-02                      Ohio    39   93031    3529\n",
       "2020-08-02                  Maryland    24   90835    3515\n",
       "2020-08-02                   Indiana    18   69531    2975\n",
       "2020-08-02                  Virginia    51   91782    2218\n",
       "2020-08-02            North Carolina    37  125281    1996\n",
       "2020-08-02                  Colorado     8   47799    1846\n",
       "2020-08-02            South Carolina    45   91788    1777\n",
       "2020-08-02               Mississippi    28   60553    1703\n",
       "2020-08-02                Washington    53   60160    1679\n",
       "2020-08-02                 Minnesota    27   55987    1654\n",
       "2020-08-02                   Alabama     1   91444    1627\n",
       "2020-08-02                  Missouri    29   52577    1311\n",
       "2020-08-02                 Tennessee    47  106804    1062\n",
       "2020-08-02              Rhode Island    44   19022    1007\n",
       "2020-08-02                 Wisconsin    55   58990     956\n",
       "2020-08-02                      Iowa    19   45723     878\n",
       "2020-08-02                    Nevada    32   50270     833\n",
       "2020-08-02                  Kentucky    21   31966     759\n",
       "2020-08-02                New Mexico    35   21016     654\n",
       "2020-08-02      District of Columbia    11   12274     586\n",
       "2020-08-02                  Delaware    10   14949     585\n",
       "2020-08-02                  Oklahoma    40   38201     550\n",
       "2020-08-02                  Arkansas     5   43810     464\n",
       "2020-08-02             New Hampshire    33    6634     417\n",
       "2020-08-02                    Kansas    20   28341     361\n",
       "2020-08-02                  Nebraska    31   26702     338\n",
       "2020-08-02                    Oregon    41   19097     331\n",
       "2020-08-02                      Utah    49   41175     313\n",
       "2020-08-02               Puerto Rico    72   18411     230\n",
       "2020-08-02                     Idaho    16   21465     197\n",
       "2020-08-02              South Dakota    46    8955     135\n",
       "2020-08-02                     Maine    23    3958     123\n",
       "2020-08-02             West Virginia    54    6854     117\n",
       "2020-08-02              North Dakota    38    6664     109\n",
       "2020-08-02                   Montana    30    4193      61\n",
       "2020-08-02                   Vermont    50    1426      57\n",
       "2020-08-02                   Wyoming    56    2808      26\n",
       "2020-08-02                    Hawaii    15    2219      25\n",
       "2020-08-02                    Alaska     2    3982      22\n",
       "2020-08-02            Virgin Islands    78     421       8\n",
       "2020-08-02                      Guam    66    1328       6\n",
       "2020-08-02  Northern Mariana Islands    69      45       2"
      ]
     },
     "execution_count": 66,
     "metadata": {},
     "output_type": "execute_result"
    }
   ],
   "source": [
    "current_df"
   ]
  },
  {
   "cell_type": "markdown",
   "metadata": {
    "id": "i_M6NGQk8_2U"
   },
   "source": [
    "### State Based Analysis"
   ]
  },
  {
   "cell_type": "markdown",
   "metadata": {
    "id": "xzGQ9z_oA6V7"
   },
   "source": [
    "*Get 10 states and subset*"
   ]
  },
  {
   "cell_type": "code",
   "execution_count": 53,
   "metadata": {
    "colab": {
     "base_uri": "https://localhost:8080/",
     "height": 197
    },
    "id": "PeicLkAlA9y4",
    "outputId": "319ec37e-6652-4684-fb48-1aa7245f0469"
   },
   "outputs": [
    {
     "data": {
      "text/plain": [
       "['New York',\n",
       " 'New Jersey',\n",
       " 'California',\n",
       " 'Massachusetts',\n",
       " 'Illinois',\n",
       " 'Texas',\n",
       " 'Pennsylvania',\n",
       " 'Florida',\n",
       " 'Michigan',\n",
       " 'Connecticut']"
      ]
     },
     "execution_count": 53,
     "metadata": {},
     "output_type": "execute_result"
    }
   ],
   "source": [
    "top_ten_states = list(current_df[\"state\"].head(10).values)\n",
    "top_ten_states"
   ]
  },
  {
   "cell_type": "code",
   "execution_count": 54,
   "metadata": {
    "id": "uzv8KJtx9bFO"
   },
   "outputs": [],
   "source": [
    "top_states_df = df[df['state'].isin(top_ten_states)].drop(columns=\"fips\")"
   ]
  },
  {
   "cell_type": "markdown",
   "metadata": {
    "id": "dkLverBTICn3"
   },
   "source": [
    "*Verify the unique states left is the same 10*"
   ]
  },
  {
   "cell_type": "code",
   "execution_count": 55,
   "metadata": {
    "colab": {
     "base_uri": "https://localhost:8080/",
     "height": 197
    },
    "id": "l3bJzaxyHnD6",
    "outputId": "5f6d40b2-05e2-41b4-9506-a5431c3498c3"
   },
   "outputs": [
    {
     "data": {
      "text/plain": [
       "{'California',\n",
       " 'Connecticut',\n",
       " 'Florida',\n",
       " 'Illinois',\n",
       " 'Massachusetts',\n",
       " 'Michigan',\n",
       " 'New Jersey',\n",
       " 'New York',\n",
       " 'Pennsylvania',\n",
       " 'Texas'}"
      ]
     },
     "execution_count": 55,
     "metadata": {},
     "output_type": "execute_result"
    }
   ],
   "source": [
    "set(top_states_df.state.values)"
   ]
  },
  {
   "cell_type": "code",
   "execution_count": 56,
   "metadata": {
    "colab": {
     "base_uri": "https://localhost:8080/",
     "height": 502
    },
    "id": "9ba-QT229CYE",
    "outputId": "cb08520e-7eba-4cf2-fa0d-7365b30518ff"
   },
   "outputs": [
    {
     "data": {
      "text/plain": [
       "<Figure size 1080x360 with 0 Axes>"
      ]
     },
     "metadata": {},
     "output_type": "display_data"
    },
    {
     "data": {
      "image/png": "[encoded data removed]",
      "text/plain": [
       "<Figure size 1260x504 with 10 Axes>"
      ]
     },
     "metadata": {
      "needs_background": "light"
     },
     "output_type": "display_data"
    }
   ],
   "source": [
    "import seaborn as sns\n",
    "import matplotlib.pyplot as plt\n",
    "\n",
    "plt.figure(figsize=(15,5))\n",
    "ax = sns.lmplot(x=\"cases\", y=\"deaths\",\n",
    "                    height=3.5,\n",
    "                    col=\"state\",\n",
    "                    col_wrap=5,\n",
    "                    hue=\"state\", \n",
    "                    palette=\"Set2\",\n",
    "                    data=top_states_df)\n",
    "ax.fig.subplots_adjust(wspace=.2)"
   ]
  },
  {
   "cell_type": "markdown",
   "metadata": {
    "id": "in-JRg0lOCrp"
   },
   "source": [
    "*Interactive plot of top states*"
   ]
  },
  {
   "cell_type": "code",
   "execution_count": 59,
   "metadata": {
    "colab": {
     "base_uri": "https://localhost:8080/",
     "height": 233
    },
    "id": "Vf7j4jUBaKMS",
    "outputId": "1ac26832-4bfe-4f23-cd50-be1d8d873f50"
   },
   "outputs": [
    {
     "data": {
      "text/html": [
       "<div>\n",
       "<style scoped>\n",
       "    .dataframe tbody tr th:only-of-type {\n",
       "        vertical-align: middle;\n",
       "    }\n",
       "\n",
       "    .dataframe tbody tr th {\n",
       "        vertical-align: top;\n",
       "    }\n",
       "\n",
       "    .dataframe thead th {\n",
       "        text-align: right;\n",
       "    }\n",
       "</style>\n",
       "<table border=\"1\" class=\"dataframe\">\n",
       "  <thead>\n",
       "    <tr style=\"text-align: right;\">\n",
       "      <th></th>\n",
       "      <th>state</th>\n",
       "      <th>cases</th>\n",
       "      <th>deaths</th>\n",
       "    </tr>\n",
       "    <tr>\n",
       "      <th>date</th>\n",
       "      <th></th>\n",
       "      <th></th>\n",
       "      <th></th>\n",
       "    </tr>\n",
       "  </thead>\n",
       "  <tbody>\n",
       "    <tr>\n",
       "      <th>2020-03-08</th>\n",
       "      <td>Connecticut</td>\n",
       "      <td>1</td>\n",
       "      <td>0</td>\n",
       "    </tr>\n",
       "    <tr>\n",
       "      <th>2020-03-09</th>\n",
       "      <td>Connecticut</td>\n",
       "      <td>2</td>\n",
       "      <td>0</td>\n",
       "    </tr>\n",
       "    <tr>\n",
       "      <th>2020-03-10</th>\n",
       "      <td>Connecticut</td>\n",
       "      <td>2</td>\n",
       "      <td>0</td>\n",
       "    </tr>\n",
       "    <tr>\n",
       "      <th>2020-03-10</th>\n",
       "      <td>Michigan</td>\n",
       "      <td>2</td>\n",
       "      <td>0</td>\n",
       "    </tr>\n",
       "    <tr>\n",
       "      <th>2020-03-11</th>\n",
       "      <td>Michigan</td>\n",
       "      <td>2</td>\n",
       "      <td>0</td>\n",
       "    </tr>\n",
       "  </tbody>\n",
       "</table>\n",
       "</div>"
      ],
      "text/plain": [
       "                  state  cases  deaths\n",
       "date                                  \n",
       "2020-03-08  Connecticut      1       0\n",
       "2020-03-09  Connecticut      2       0\n",
       "2020-03-10  Connecticut      2       0\n",
       "2020-03-10     Michigan      2       0\n",
       "2020-03-11     Michigan      2       0"
      ]
     },
     "execution_count": 59,
     "metadata": {},
     "output_type": "execute_result"
    }
   ],
   "source": [
    "top_states_march_current_df = top_states_df.loc[\"2020-03-08\":today].sort_values(by=[\"deaths\", \"cases\"], ascending=True)\n",
    "top_states_march_current_df.head()"
   ]
  },
  {
   "cell_type": "markdown",
   "metadata": {
    "id": "rN0jv8_3mD-z"
   },
   "source": [
    "### Search for Features:  Political, Health and Finance"
   ]
  },
  {
   "cell_type": "markdown",
   "metadata": {
    "id": "4VLRtEYvBtoR"
   },
   "source": [
    "*Sugar Intake By State*"
   ]
  },
  {
   "cell_type": "code",
   "execution_count": 60,
   "metadata": {
    "colab": {
     "base_uri": "https://localhost:8080/",
     "height": 202
    },
    "id": "nnLcHUUUBwzD",
    "outputId": "0351e944-96b5-4ac5-cd76-81fb2752fbdb"
   },
   "outputs": [
    {
     "data": {
      "text/html": [
       "<div>\n",
       "<style scoped>\n",
       "    .dataframe tbody tr th:only-of-type {\n",
       "        vertical-align: middle;\n",
       "    }\n",
       "\n",
       "    .dataframe tbody tr th {\n",
       "        vertical-align: top;\n",
       "    }\n",
       "\n",
       "    .dataframe thead th {\n",
       "        text-align: right;\n",
       "    }\n",
       "</style>\n",
       "<table border=\"1\" class=\"dataframe\">\n",
       "  <thead>\n",
       "    <tr style=\"text-align: right;\">\n",
       "      <th></th>\n",
       "      <th>state</th>\n",
       "      <th>employed-sugar-intake-daily</th>\n",
       "      <th>Not employed</th>\n",
       "      <th>Retired</th>\n",
       "      <th>&lt;High school</th>\n",
       "      <th>High school</th>\n",
       "      <th>Some college</th>\n",
       "      <th>College graduate</th>\n",
       "    </tr>\n",
       "  </thead>\n",
       "  <tbody>\n",
       "    <tr>\n",
       "      <th>0</th>\n",
       "      <td>Alaska</td>\n",
       "      <td>26.2</td>\n",
       "      <td>32.1</td>\n",
       "      <td>16.0</td>\n",
       "      <td>47.1</td>\n",
       "      <td>34.9</td>\n",
       "      <td>24.2</td>\n",
       "      <td>12.9</td>\n",
       "    </tr>\n",
       "    <tr>\n",
       "      <th>1</th>\n",
       "      <td>Arizona</td>\n",
       "      <td>33.0</td>\n",
       "      <td>28.7</td>\n",
       "      <td>13.8</td>\n",
       "      <td>40.4</td>\n",
       "      <td>36.5</td>\n",
       "      <td>24.4</td>\n",
       "      <td>14.6</td>\n",
       "    </tr>\n",
       "    <tr>\n",
       "      <th>2</th>\n",
       "      <td>California</td>\n",
       "      <td>22.9</td>\n",
       "      <td>30.2</td>\n",
       "      <td>15.0</td>\n",
       "      <td>38.5</td>\n",
       "      <td>29.9</td>\n",
       "      <td>21.4</td>\n",
       "      <td>11.5</td>\n",
       "    </tr>\n",
       "    <tr>\n",
       "      <th>3</th>\n",
       "      <td>Connecticut</td>\n",
       "      <td>18.9</td>\n",
       "      <td>24.3</td>\n",
       "      <td>15.0</td>\n",
       "      <td>27.8</td>\n",
       "      <td>26.9</td>\n",
       "      <td>19.9</td>\n",
       "      <td>10.2</td>\n",
       "    </tr>\n",
       "    <tr>\n",
       "      <th>4</th>\n",
       "      <td>District of Columbia</td>\n",
       "      <td>18.5</td>\n",
       "      <td>34.6</td>\n",
       "      <td>18.5</td>\n",
       "      <td>45.6</td>\n",
       "      <td>39.0</td>\n",
       "      <td>28.9</td>\n",
       "      <td>8.4</td>\n",
       "    </tr>\n",
       "  </tbody>\n",
       "</table>\n",
       "</div>"
      ],
      "text/plain": [
       "                  state  employed-sugar-intake-daily  Not employed  Retired  \\\n",
       "0                Alaska                         26.2          32.1     16.0   \n",
       "1               Arizona                         33.0          28.7     13.8   \n",
       "2            California                         22.9          30.2     15.0   \n",
       "3           Connecticut                         18.9          24.3     15.0   \n",
       "4  District of Columbia                         18.5          34.6     18.5   \n",
       "\n",
       "   <High school  High school  Some college  College graduate  \n",
       "0          47.1         34.9          24.2              12.9  \n",
       "1          40.4         36.5          24.4              14.6  \n",
       "2          38.5         29.9          21.4              11.5  \n",
       "3          27.8         26.9          19.9              10.2  \n",
       "4          45.6         39.0          28.9               8.4  "
      ]
     },
     "execution_count": 60,
     "metadata": {},
     "output_type": "execute_result"
    }
   ],
   "source": [
    "cdc_2013 = pd.read_csv(\"education_sugar_cdc_2003.csv\")\n",
    "cdc_2013.to_csv(\"education_sugar_cdc_2003.csv\", index=False)\n",
    "cdc_2013.set_index(\"State\", inplace=True)\n",
    "for column in cdc_2013.columns:\n",
    "  cdc_2013[column]=cdc_2013[column].str.replace(r\"\\(.*\\)\",\"\")\n",
    "  cdc_2013[column]=pd.to_numeric(cdc_2013[column])\n",
    "  \n",
    "cdc_2013.reset_index(inplace=True)\n",
    "cdc_2013.rename(columns={\"State\": \"state\", \"Employed\": \"employed-sugar-intake-daily\"},inplace=True)\n",
    "cdc_2013.head()"
   ]
  },
  {
   "cell_type": "markdown",
   "metadata": {
    "id": "BT7YQzUcCRSn"
   },
   "source": [
    "*Combine Sugar Data and Covid-19 Data*"
   ]
  },
  {
   "cell_type": "code",
   "execution_count": 61,
   "metadata": {
    "colab": {
     "base_uri": "https://localhost:8080/",
     "height": 202
    },
    "id": "mxZ76ZI8EDQ2",
    "outputId": "0f04c9ce-bae4-43eb-c1a6-b3aef97e4bd1"
   },
   "outputs": [
    {
     "data": {
      "text/html": [
       "<div>\n",
       "<style scoped>\n",
       "    .dataframe tbody tr th:only-of-type {\n",
       "        vertical-align: middle;\n",
       "    }\n",
       "\n",
       "    .dataframe tbody tr th {\n",
       "        vertical-align: top;\n",
       "    }\n",
       "\n",
       "    .dataframe thead th {\n",
       "        text-align: right;\n",
       "    }\n",
       "</style>\n",
       "<table border=\"1\" class=\"dataframe\">\n",
       "  <thead>\n",
       "    <tr style=\"text-align: right;\">\n",
       "      <th></th>\n",
       "      <th>state</th>\n",
       "      <th>fips</th>\n",
       "      <th>cases</th>\n",
       "      <th>deaths</th>\n",
       "      <th>employed-sugar-intake-daily</th>\n",
       "    </tr>\n",
       "  </thead>\n",
       "  <tbody>\n",
       "    <tr>\n",
       "      <th>0</th>\n",
       "      <td>California</td>\n",
       "      <td>6</td>\n",
       "      <td>1</td>\n",
       "      <td>0</td>\n",
       "      <td>22.9</td>\n",
       "    </tr>\n",
       "    <tr>\n",
       "      <th>1</th>\n",
       "      <td>California</td>\n",
       "      <td>6</td>\n",
       "      <td>2</td>\n",
       "      <td>0</td>\n",
       "      <td>22.9</td>\n",
       "    </tr>\n",
       "    <tr>\n",
       "      <th>2</th>\n",
       "      <td>California</td>\n",
       "      <td>6</td>\n",
       "      <td>2</td>\n",
       "      <td>0</td>\n",
       "      <td>22.9</td>\n",
       "    </tr>\n",
       "    <tr>\n",
       "      <th>3</th>\n",
       "      <td>California</td>\n",
       "      <td>6</td>\n",
       "      <td>2</td>\n",
       "      <td>0</td>\n",
       "      <td>22.9</td>\n",
       "    </tr>\n",
       "    <tr>\n",
       "      <th>4</th>\n",
       "      <td>California</td>\n",
       "      <td>6</td>\n",
       "      <td>2</td>\n",
       "      <td>0</td>\n",
       "      <td>22.9</td>\n",
       "    </tr>\n",
       "  </tbody>\n",
       "</table>\n",
       "</div>"
      ],
      "text/plain": [
       "        state  fips  cases  deaths  employed-sugar-intake-daily\n",
       "0  California     6      1       0                         22.9\n",
       "1  California     6      2       0                         22.9\n",
       "2  California     6      2       0                         22.9\n",
       "3  California     6      2       0                         22.9\n",
       "4  California     6      2       0                         22.9"
      ]
     },
     "execution_count": 61,
     "metadata": {},
     "output_type": "execute_result"
    }
   ],
   "source": [
    "cdc_employed_df = cdc_2013[[\"employed-sugar-intake-daily\", \"state\"]]\n",
    "sugar_covid_df = df.merge(cdc_employed_df, how=\"inner\", on=\"state\")\n",
    "sugar_covid_df.head()"
   ]
  },
  {
   "cell_type": "markdown",
   "metadata": {
    "id": "9syyMOxhTHMo"
   },
   "source": [
    "*What about data from the 2016 Election?*"
   ]
  },
  {
   "cell_type": "code",
   "execution_count": 62,
   "metadata": {
    "colab": {
     "base_uri": "https://localhost:8080/",
     "height": 202
    },
    "id": "2RZa-tDmTPXP",
    "outputId": "e06bc642-feb3-480b-a3b4-0704e2ae8b03"
   },
   "outputs": [
    {
     "data": {
      "text/html": [
       "<div>\n",
       "<style scoped>\n",
       "    .dataframe tbody tr th:only-of-type {\n",
       "        vertical-align: middle;\n",
       "    }\n",
       "\n",
       "    .dataframe tbody tr th {\n",
       "        vertical-align: top;\n",
       "    }\n",
       "\n",
       "    .dataframe thead th {\n",
       "        text-align: right;\n",
       "    }\n",
       "</style>\n",
       "<table border=\"1\" class=\"dataframe\">\n",
       "  <thead>\n",
       "    <tr style=\"text-align: right;\">\n",
       "      <th></th>\n",
       "      <th>state</th>\n",
       "      <th>Winning Party</th>\n",
       "      <th>Democrats</th>\n",
       "      <th>Republicans</th>\n",
       "    </tr>\n",
       "  </thead>\n",
       "  <tbody>\n",
       "    <tr>\n",
       "      <th>0</th>\n",
       "      <td>Alabama</td>\n",
       "      <td>Republicans</td>\n",
       "      <td>0</td>\n",
       "      <td>1</td>\n",
       "    </tr>\n",
       "    <tr>\n",
       "      <th>1</th>\n",
       "      <td>Alaska</td>\n",
       "      <td>Republicans</td>\n",
       "      <td>0</td>\n",
       "      <td>1</td>\n",
       "    </tr>\n",
       "    <tr>\n",
       "      <th>2</th>\n",
       "      <td>Arizona</td>\n",
       "      <td>Republicans</td>\n",
       "      <td>0</td>\n",
       "      <td>1</td>\n",
       "    </tr>\n",
       "    <tr>\n",
       "      <th>3</th>\n",
       "      <td>Arkansas</td>\n",
       "      <td>Republicans</td>\n",
       "      <td>0</td>\n",
       "      <td>1</td>\n",
       "    </tr>\n",
       "    <tr>\n",
       "      <th>4</th>\n",
       "      <td>California</td>\n",
       "      <td>Democrats</td>\n",
       "      <td>1</td>\n",
       "      <td>0</td>\n",
       "    </tr>\n",
       "  </tbody>\n",
       "</table>\n",
       "</div>"
      ],
      "text/plain": [
       "        state Winning Party  Democrats  Republicans\n",
       "0     Alabama   Republicans          0            1\n",
       "1      Alaska   Republicans          0            1\n",
       "2     Arizona   Republicans          0            1\n",
       "3    Arkansas   Republicans          0            1\n",
       "4  California     Democrats          1            0"
      ]
     },
     "execution_count": 62,
     "metadata": {},
     "output_type": "execute_result"
    }
   ],
   "source": [
    "election_df = pd.read_csv(\"2016-Electoral-Votes.csv\")\n",
    "#election_df.to_csv(\"2016-Electoral-Votes.csv\", index=False)\n",
    "election_df.rename(columns={\"State\": \"state\"},inplace=True)\n",
    "election_df.drop(columns=\"Votes\", inplace=True)\n",
    "election_df = pd.concat([election_df, pd.get_dummies(election_df[\"Winning Party\"])], axis=1);\n",
    "election_df.head()\n",
    "#election_df[\"Republican?\"] = pd.get_dummies(election_df, columns=[\"Winning Party\"])\n",
    "#election_df.head()"
   ]
  },
  {
   "cell_type": "code",
   "execution_count": 63,
   "metadata": {
    "colab": {
     "base_uri": "https://localhost:8080/",
     "height": 202
    },
    "id": "c6CuViW_V2Hx",
    "outputId": "76ec7320-9f60-495c-9f7a-cce61c8e2d59"
   },
   "outputs": [
    {
     "data": {
      "text/html": [
       "<div>\n",
       "<style scoped>\n",
       "    .dataframe tbody tr th:only-of-type {\n",
       "        vertical-align: middle;\n",
       "    }\n",
       "\n",
       "    .dataframe tbody tr th {\n",
       "        vertical-align: top;\n",
       "    }\n",
       "\n",
       "    .dataframe thead th {\n",
       "        text-align: right;\n",
       "    }\n",
       "</style>\n",
       "<table border=\"1\" class=\"dataframe\">\n",
       "  <thead>\n",
       "    <tr style=\"text-align: right;\">\n",
       "      <th></th>\n",
       "      <th>state</th>\n",
       "      <th>fips</th>\n",
       "      <th>cases</th>\n",
       "      <th>deaths</th>\n",
       "      <th>employed-sugar-intake-daily</th>\n",
       "      <th>Winning Party</th>\n",
       "      <th>Democrats</th>\n",
       "      <th>Republicans</th>\n",
       "    </tr>\n",
       "  </thead>\n",
       "  <tbody>\n",
       "    <tr>\n",
       "      <th>0</th>\n",
       "      <td>California</td>\n",
       "      <td>6</td>\n",
       "      <td>1</td>\n",
       "      <td>0</td>\n",
       "      <td>22.9</td>\n",
       "      <td>Democrats</td>\n",
       "      <td>1</td>\n",
       "      <td>0</td>\n",
       "    </tr>\n",
       "    <tr>\n",
       "      <th>1</th>\n",
       "      <td>California</td>\n",
       "      <td>6</td>\n",
       "      <td>2</td>\n",
       "      <td>0</td>\n",
       "      <td>22.9</td>\n",
       "      <td>Democrats</td>\n",
       "      <td>1</td>\n",
       "      <td>0</td>\n",
       "    </tr>\n",
       "    <tr>\n",
       "      <th>2</th>\n",
       "      <td>California</td>\n",
       "      <td>6</td>\n",
       "      <td>2</td>\n",
       "      <td>0</td>\n",
       "      <td>22.9</td>\n",
       "      <td>Democrats</td>\n",
       "      <td>1</td>\n",
       "      <td>0</td>\n",
       "    </tr>\n",
       "    <tr>\n",
       "      <th>3</th>\n",
       "      <td>California</td>\n",
       "      <td>6</td>\n",
       "      <td>2</td>\n",
       "      <td>0</td>\n",
       "      <td>22.9</td>\n",
       "      <td>Democrats</td>\n",
       "      <td>1</td>\n",
       "      <td>0</td>\n",
       "    </tr>\n",
       "    <tr>\n",
       "      <th>4</th>\n",
       "      <td>California</td>\n",
       "      <td>6</td>\n",
       "      <td>2</td>\n",
       "      <td>0</td>\n",
       "      <td>22.9</td>\n",
       "      <td>Democrats</td>\n",
       "      <td>1</td>\n",
       "      <td>0</td>\n",
       "    </tr>\n",
       "  </tbody>\n",
       "</table>\n",
       "</div>"
      ],
      "text/plain": [
       "        state  fips  cases  deaths  employed-sugar-intake-daily Winning Party  \\\n",
       "0  California     6      1       0                         22.9     Democrats   \n",
       "1  California     6      2       0                         22.9     Democrats   \n",
       "2  California     6      2       0                         22.9     Democrats   \n",
       "3  California     6      2       0                         22.9     Democrats   \n",
       "4  California     6      2       0                         22.9     Democrats   \n",
       "\n",
       "   Democrats  Republicans  \n",
       "0          1            0  \n",
       "1          1            0  \n",
       "2          1            0  \n",
       "3          1            0  \n",
       "4          1            0  "
      ]
     },
     "execution_count": 63,
     "metadata": {},
     "output_type": "execute_result"
    }
   ],
   "source": [
    "sugar_covid_df = sugar_covid_df.merge(election_df, how=\"inner\", on=\"state\")\n",
    "sugar_covid_df.head()"
   ]
  },
  {
   "cell_type": "markdown",
   "metadata": {
    "id": "RmBJqPnXE5wR"
   },
   "source": [
    "*Generate Heatmap*"
   ]
  },
  {
   "cell_type": "code",
   "execution_count": 64,
   "metadata": {
    "colab": {
     "base_uri": "https://localhost:8080/",
     "height": 233
    },
    "id": "cee_tCSBGdEM",
    "outputId": "f74e0e33-66cb-4051-c208-699aa539517b"
   },
   "outputs": [
    {
     "data": {
      "text/html": [
       "<div>\n",
       "<style scoped>\n",
       "    .dataframe tbody tr th:only-of-type {\n",
       "        vertical-align: middle;\n",
       "    }\n",
       "\n",
       "    .dataframe tbody tr th {\n",
       "        vertical-align: top;\n",
       "    }\n",
       "\n",
       "    .dataframe thead th {\n",
       "        text-align: right;\n",
       "    }\n",
       "</style>\n",
       "<table border=\"1\" class=\"dataframe\">\n",
       "  <thead>\n",
       "    <tr style=\"text-align: right;\">\n",
       "      <th></th>\n",
       "      <th>fips</th>\n",
       "      <th>cases</th>\n",
       "      <th>deaths</th>\n",
       "      <th>employed-sugar-intake-daily</th>\n",
       "      <th>Democrats</th>\n",
       "      <th>Republicans</th>\n",
       "    </tr>\n",
       "  </thead>\n",
       "  <tbody>\n",
       "    <tr>\n",
       "      <th>fips</th>\n",
       "      <td>1.000000</td>\n",
       "      <td>-0.120943</td>\n",
       "      <td>-0.127549</td>\n",
       "      <td>0.269999</td>\n",
       "      <td>-0.187330</td>\n",
       "      <td>0.187330</td>\n",
       "    </tr>\n",
       "    <tr>\n",
       "      <th>cases</th>\n",
       "      <td>-0.120943</td>\n",
       "      <td>1.000000</td>\n",
       "      <td>0.935557</td>\n",
       "      <td>-0.124204</td>\n",
       "      <td>0.221498</td>\n",
       "      <td>-0.221498</td>\n",
       "    </tr>\n",
       "    <tr>\n",
       "      <th>deaths</th>\n",
       "      <td>-0.127549</td>\n",
       "      <td>0.935557</td>\n",
       "      <td>1.000000</td>\n",
       "      <td>-0.161596</td>\n",
       "      <td>0.299948</td>\n",
       "      <td>-0.299948</td>\n",
       "    </tr>\n",
       "    <tr>\n",
       "      <th>employed-sugar-intake-daily</th>\n",
       "      <td>0.269999</td>\n",
       "      <td>-0.124204</td>\n",
       "      <td>-0.161596</td>\n",
       "      <td>1.000000</td>\n",
       "      <td>-0.767539</td>\n",
       "      <td>0.767539</td>\n",
       "    </tr>\n",
       "    <tr>\n",
       "      <th>Democrats</th>\n",
       "      <td>-0.187330</td>\n",
       "      <td>0.221498</td>\n",
       "      <td>0.299948</td>\n",
       "      <td>-0.767539</td>\n",
       "      <td>1.000000</td>\n",
       "      <td>-1.000000</td>\n",
       "    </tr>\n",
       "    <tr>\n",
       "      <th>Republicans</th>\n",
       "      <td>0.187330</td>\n",
       "      <td>-0.221498</td>\n",
       "      <td>-0.299948</td>\n",
       "      <td>0.767539</td>\n",
       "      <td>-1.000000</td>\n",
       "      <td>1.000000</td>\n",
       "    </tr>\n",
       "  </tbody>\n",
       "</table>\n",
       "</div>"
      ],
      "text/plain": [
       "                                 fips     cases    deaths  \\\n",
       "fips                         1.000000 -0.120943 -0.127549   \n",
       "cases                       -0.120943  1.000000  0.935557   \n",
       "deaths                      -0.127549  0.935557  1.000000   \n",
       "employed-sugar-intake-daily  0.269999 -0.124204 -0.161596   \n",
       "Democrats                   -0.187330  0.221498  0.299948   \n",
       "Republicans                  0.187330 -0.221498 -0.299948   \n",
       "\n",
       "                             employed-sugar-intake-daily  Democrats  \\\n",
       "fips                                            0.269999  -0.187330   \n",
       "cases                                          -0.124204   0.221498   \n",
       "deaths                                         -0.161596   0.299948   \n",
       "employed-sugar-intake-daily                     1.000000  -0.767539   \n",
       "Democrats                                      -0.767539   1.000000   \n",
       "Republicans                                     0.767539  -1.000000   \n",
       "\n",
       "                             Republicans  \n",
       "fips                            0.187330  \n",
       "cases                          -0.221498  \n",
       "deaths                         -0.299948  \n",
       "employed-sugar-intake-daily     0.767539  \n",
       "Democrats                      -1.000000  \n",
       "Republicans                     1.000000  "
      ]
     },
     "execution_count": 64,
     "metadata": {},
     "output_type": "execute_result"
    }
   ],
   "source": [
    "sugar_covid_df.corr()"
   ]
  },
  {
   "cell_type": "code",
   "execution_count": 65,
   "metadata": {
    "id": "ZFaYmi8fBE6_"
   },
   "outputs": [],
   "source": [
    "sugar_covid_df.to_csv(\"covid-eda.csv\")"
   ]
  },
  {
   "cell_type": "markdown",
   "metadata": {
    "id": "M4W9aBagTHFC"
   },
   "source": []
  },
  {
   "cell_type": "markdown",
   "metadata": {
    "id": "IrRjhxe30C_q"
   },
   "source": [
    "## Modeling"
   ]
  },
  {
   "cell_type": "code",
   "execution_count": 73,
   "metadata": {},
   "outputs": [],
   "source": [
    "import numpy as np\n",
    "from matplotlib.pyplot import subplots\n",
    "import statsmodels.api as sm\n",
    "from statsmodels.stats.outliers_influence \\\n",
    "import variance_inflation_factor as VIF\n",
    "from statsmodels.stats.anova import anova_lm\n",
    "from ISLP import load_data\n",
    "from ISLP.models import (ModelSpec as MS, summarize, poly)\n",
    "from sklearn.linear_model import LinearRegression"
   ]
  },
  {
   "cell_type": "code",
   "execution_count": 95,
   "metadata": {},
   "outputs": [],
   "source": [
    "#dir()"
   ]
  },
  {
   "cell_type": "code",
   "execution_count": 86,
   "metadata": {},
   "outputs": [
    {
     "data": {
      "text/plain": [
       "(61942, 4)"
      ]
     },
     "execution_count": 86,
     "metadata": {},
     "output_type": "execute_result"
    }
   ],
   "source": [
    "df.shape"
   ]
  },
  {
   "cell_type": "code",
   "execution_count": 111,
   "metadata": {},
   "outputs": [
    {
     "data": {
      "text/html": [
       "<div>\n",
       "<style scoped>\n",
       "    .dataframe tbody tr th:only-of-type {\n",
       "        vertical-align: middle;\n",
       "    }\n",
       "\n",
       "    .dataframe tbody tr th {\n",
       "        vertical-align: top;\n",
       "    }\n",
       "\n",
       "    .dataframe thead th {\n",
       "        text-align: right;\n",
       "    }\n",
       "</style>\n",
       "<table border=\"1\" class=\"dataframe\">\n",
       "  <thead>\n",
       "    <tr style=\"text-align: right;\">\n",
       "      <th></th>\n",
       "      <th>state</th>\n",
       "      <th>cases_2020</th>\n",
       "      <th>deaths_2020</th>\n",
       "      <th>cases_2021</th>\n",
       "      <th>deaths_2021</th>\n",
       "    </tr>\n",
       "  </thead>\n",
       "  <tbody>\n",
       "    <tr>\n",
       "      <th>0</th>\n",
       "      <td>Alabama</td>\n",
       "      <td>18534</td>\n",
       "      <td>646</td>\n",
       "      <td>544045</td>\n",
       "      <td>11156</td>\n",
       "    </tr>\n",
       "    <tr>\n",
       "      <th>1</th>\n",
       "      <td>Alaska</td>\n",
       "      <td>476</td>\n",
       "      <td>8</td>\n",
       "      <td>69737</td>\n",
       "      <td>352</td>\n",
       "    </tr>\n",
       "    <tr>\n",
       "      <th>2</th>\n",
       "      <td>Arizona</td>\n",
       "      <td>20123</td>\n",
       "      <td>918</td>\n",
       "      <td>881454</td>\n",
       "      <td>17628</td>\n",
       "    </tr>\n",
       "    <tr>\n",
       "      <th>3</th>\n",
       "      <td>Arkansas</td>\n",
       "      <td>7443</td>\n",
       "      <td>133</td>\n",
       "      <td>341450</td>\n",
       "      <td>5834</td>\n",
       "    </tr>\n",
       "    <tr>\n",
       "      <th>4</th>\n",
       "      <td>California</td>\n",
       "      <td>115643</td>\n",
       "      <td>4287</td>\n",
       "      <td>3791188</td>\n",
       "      <td>63260</td>\n",
       "    </tr>\n",
       "  </tbody>\n",
       "</table>\n",
       "</div>"
      ],
      "text/plain": [
       "        state  cases_2020  deaths_2020  cases_2021  deaths_2021\n",
       "0     Alabama       18534          646      544045        11156\n",
       "1      Alaska         476            8       69737          352\n",
       "2     Arizona       20123          918      881454        17628\n",
       "3    Arkansas        7443          133      341450         5834\n",
       "4  California      115643         4287     3791188        63260"
      ]
     },
     "execution_count": 111,
     "metadata": {},
     "output_type": "execute_result"
    }
   ],
   "source": [
    "# Prepare data for modeling\n",
    "# Model inputs: June 2020 cases and June 2020 deaths\n",
    "# Model outputs: June 2020 cases and June 2020 deaths\n",
    "# Resource: https://realpython.com/linear-regression-in-python/\n",
    "\n",
    "df_june_2020 = df.loc['2020-06-01'].drop(columns=\"fips\")\n",
    "df_june_2020 = df_june_2020.rename(columns={'cases': 'cases_2020', 'deaths': 'deaths_2020'})\n",
    "\n",
    "df_june_2021 = df.loc['2021-06-01'].drop(columns=\"fips\")\n",
    "df_june_2021 = df_june_2021.rename(columns={'cases': 'cases_2021', 'deaths': 'deaths_2021'})\n",
    "\n",
    "june_cases_df = df_june_2020.merge(df_june_2021, how=\"inner\", on=\"state\")\n",
    "june_cases_df.head()"
   ]
  },
  {
   "cell_type": "code",
   "execution_count": 112,
   "metadata": {},
   "outputs": [
    {
     "data": {
      "text/plain": [
       "(55, 5)"
      ]
     },
     "execution_count": 112,
     "metadata": {},
     "output_type": "execute_result"
    }
   ],
   "source": [
    "june_cases_df.shape"
   ]
  },
  {
   "cell_type": "code",
   "execution_count": 132,
   "metadata": {},
   "outputs": [],
   "source": [
    "x = np.array(june_cases_df['cases_2020']).reshape((-1, 1))\n",
    "y = np.array(june_cases_df['deaths_2021'])"
   ]
  },
  {
   "cell_type": "code",
   "execution_count": 133,
   "metadata": {},
   "outputs": [
    {
     "data": {
      "text/plain": [
       "(array([[ 18534],\n",
       "        [   476],\n",
       "        [ 20123],\n",
       "        [  7443],\n",
       "        [115643],\n",
       "        [ 26563],\n",
       "        [ 42740],\n",
       "        [  9605],\n",
       "        [  8857],\n",
       "        [ 56822],\n",
       "        [ 45757],\n",
       "        [  1144],\n",
       "        [   642],\n",
       "        [  2908],\n",
       "        [121666],\n",
       "        [ 35684],\n",
       "        [ 19789],\n",
       "        [ 10103],\n",
       "        [ 10150],\n",
       "        [ 40452],\n",
       "        [  2349],\n",
       "        [ 54035],\n",
       "        [100805],\n",
       "        [ 58435],\n",
       "        [ 25218],\n",
       "        [ 15752],\n",
       "        [ 13523],\n",
       "        [   519],\n",
       "        [ 14345],\n",
       "        [  8701],\n",
       "        [  4685],\n",
       "        [160918],\n",
       "        [  7800],\n",
       "        [376520],\n",
       "        [ 29368],\n",
       "        [  2628],\n",
       "        [    22],\n",
       "        [ 35984],\n",
       "        [  6573],\n",
       "        [  4303],\n",
       "        [ 76734],\n",
       "        [  3873],\n",
       "        [ 14991],\n",
       "        [ 12148],\n",
       "        [  5034],\n",
       "        [ 23242],\n",
       "        [ 66081],\n",
       "        [ 10026],\n",
       "        [   983],\n",
       "        [    70],\n",
       "        [ 45398],\n",
       "        [ 23272],\n",
       "        [  2028],\n",
       "        [ 18825],\n",
       "        [   910]]),\n",
       " array([11156,   352, 17628,  5834, 63260,  6723,  8244,  1661,  1134,\n",
       "        36868, 20181,   140,   497,  2092, 25233, 13628,  6057,  5115,\n",
       "         7109, 10592,   825,  9616, 17883, 20374,  7520,  7318,  9676,\n",
       "         1613,  2497,  5590,  1353, 26219,  4266, 52784, 13118,  1543,\n",
       "            2, 19861,  7291,  2703, 27270,  2505,  2712,  9736,  2014,\n",
       "        12356, 51689,  2302,   255,    27, 11194,  5833,  2797,  7875,\n",
       "          720]))"
      ]
     },
     "execution_count": 133,
     "metadata": {},
     "output_type": "execute_result"
    }
   ],
   "source": [
    "x,y"
   ]
  },
  {
   "cell_type": "code",
   "execution_count": 134,
   "metadata": {},
   "outputs": [],
   "source": [
    "model = LinearRegression()"
   ]
  },
  {
   "cell_type": "code",
   "execution_count": 135,
   "metadata": {},
   "outputs": [],
   "source": [
    "model = LinearRegression().fit(x, y)"
   ]
  },
  {
   "cell_type": "code",
   "execution_count": 138,
   "metadata": {},
   "outputs": [
    {
     "name": "stdout",
     "output_type": "stream",
     "text": [
      "coefficient of determination: 0.5626380664553967\n",
      "intercept: 4973.639529695479\n",
      "slope: [0.1764172]\n"
     ]
    }
   ],
   "source": [
    "r_sq = model.score(x, y)\n",
    "print(f\"coefficient of determination: {r_sq}\")\n",
    "print(f\"intercept: {model.intercept_}\")\n",
    "print(f\"slope: {model.coef_}\")"
   ]
  },
  {
   "cell_type": "code",
   "execution_count": 139,
   "metadata": {},
   "outputs": [
    {
     "name": "stdout",
     "output_type": "stream",
     "text": [
      "predicted response:\n",
      "[ 8243.35589052  5057.61411628  8523.68281926  6286.71273967\n",
      " 25375.05363969  9659.80957893 12513.7106024   6668.12672327\n",
      "  6536.16665864 14998.01759459 13045.9612909   5175.46080502\n",
      "  5086.89937126  5486.66074353 26437.6144275  11268.91084833\n",
      "  8464.75947489  6755.98248823  6764.27409656 12110.06805176\n",
      "  5388.04352946 14506.34286179 22757.37524529 15282.5785361\n",
      "  9422.52844667  7752.56324372  7359.3293078   5065.20005582\n",
      "  7504.34424514  6508.64557564  5800.15410563 33362.34231112\n",
      "  6349.6936796  71398.2431866  10154.6598213   5437.2639279\n",
      "  4977.52070807 11321.83600794  6133.22977679  5732.76273573\n",
      " 18510.83685523  5656.90334029  7618.3097555   7116.75565958\n",
      "  5861.72370798  9073.92806203 16631.46443741  6742.39836393\n",
      "  5147.05763602  4985.9887336  12982.62751656  9079.22057799\n",
      "  5331.41360867  8294.69329534  5134.17918052]\n"
     ]
    }
   ],
   "source": [
    "y_pred = model.predict(x)\n",
    "print(f\"predicted response:\\n{y_pred}\")"
   ]
  },
  {
   "cell_type": "code",
   "execution_count": 148,
   "metadata": {},
   "outputs": [],
   "source": [
    "x = np.array(june_cases_df[['cases_2020', 'deaths_2020']]).reshape((-1, 2))"
   ]
  },
  {
   "cell_type": "code",
   "execution_count": 149,
   "metadata": {},
   "outputs": [
    {
     "data": {
      "text/plain": [
       "(array([[ 18534,    646],\n",
       "        [   476,      8],\n",
       "        [ 20123,    918],\n",
       "        [  7443,    133],\n",
       "        [115643,   4287],\n",
       "        [ 26563,   1458],\n",
       "        [ 42740,   3964],\n",
       "        [  9605,    368],\n",
       "        [  8857,    468],\n",
       "        [ 56822,   2459],\n",
       "        [ 45757,   2057],\n",
       "        [  1144,      6],\n",
       "        [   642,     17],\n",
       "        [  2908,     83],\n",
       "        [121666,   5458],\n",
       "        [ 35684,   2142],\n",
       "        [ 19789,    558],\n",
       "        [ 10103,    217],\n",
       "        [ 10150,    445],\n",
       "        [ 40452,   2801],\n",
       "        [  2349,     89],\n",
       "        [ 54035,   2552],\n",
       "        [100805,   7035],\n",
       "        [ 58435,   5525],\n",
       "        [ 25218,   1060],\n",
       "        [ 15752,    739],\n",
       "        [ 13523,    786],\n",
       "        [   519,     17],\n",
       "        [ 14345,    183],\n",
       "        [  8701,    420],\n",
       "        [  4685,    245],\n",
       "        [160918,  11721],\n",
       "        [  7800,    362],\n",
       "        [376520,  29766],\n",
       "        [ 29368,    923],\n",
       "        [  2628,     64],\n",
       "        [    22,      2],\n",
       "        [ 35984,   2206],\n",
       "        [  6573,    334],\n",
       "        [  4303,    154],\n",
       "        [ 76734,   5574],\n",
       "        [  3873,    136],\n",
       "        [ 14991,    720],\n",
       "        [ 12148,    500],\n",
       "        [  5034,     62],\n",
       "        [ 23242,    361],\n",
       "        [ 66081,   1695],\n",
       "        [ 10026,    113],\n",
       "        [   983,     55],\n",
       "        [    70,      6],\n",
       "        [ 45398,   1392],\n",
       "        [ 23272,   1133],\n",
       "        [  2028,     76],\n",
       "        [ 18825,    597],\n",
       "        [   910,     17]]),\n",
       " array([11156,   352, 17628,  5834, 63260,  6723,  8244,  1661,  1134,\n",
       "        36868, 20181,   140,   497,  2092, 25233, 13628,  6057,  5115,\n",
       "         7109, 10592,   825,  9616, 17883, 20374,  7520,  7318,  9676,\n",
       "         1613,  2497,  5590,  1353, 26219,  4266, 52784, 13118,  1543,\n",
       "            2, 19861,  7291,  2703, 27270,  2505,  2712,  9736,  2014,\n",
       "        12356, 51689,  2302,   255,    27, 11194,  5833,  2797,  7875,\n",
       "          720]))"
      ]
     },
     "execution_count": 149,
     "metadata": {},
     "output_type": "execute_result"
    }
   ],
   "source": [
    "x,y"
   ]
  },
  {
   "cell_type": "code",
   "execution_count": 150,
   "metadata": {},
   "outputs": [],
   "source": [
    "model = LinearRegression().fit(x, y)"
   ]
  },
  {
   "cell_type": "code",
   "execution_count": 151,
   "metadata": {},
   "outputs": [
    {
     "name": "stdout",
     "output_type": "stream",
     "text": [
      "coefficient of determination: 0.7737684957773667\n",
      "intercept: 1547.3997572827338\n",
      "slope: [ 0.64941364 -6.40241883]\n"
     ]
    }
   ],
   "source": [
    "r_sq = model.score(x, y)\n",
    "print(f\"coefficient of determination: {r_sq}\")\n",
    "print(f\"intercept: {model.intercept_}\")\n",
    "print(f\"slope: {model.coef_}\")"
   ]
  },
  {
   "cell_type": "code",
   "execution_count": 157,
   "metadata": {},
   "outputs": [
    {
     "data": {
      "text/html": [
       "<div>\n",
       "<style scoped>\n",
       "    .dataframe tbody tr th:only-of-type {\n",
       "        vertical-align: middle;\n",
       "    }\n",
       "\n",
       "    .dataframe tbody tr th {\n",
       "        vertical-align: top;\n",
       "    }\n",
       "\n",
       "    .dataframe thead th {\n",
       "        text-align: right;\n",
       "    }\n",
       "</style>\n",
       "<table border=\"1\" class=\"dataframe\">\n",
       "  <thead>\n",
       "    <tr style=\"text-align: right;\">\n",
       "      <th></th>\n",
       "      <th>intercept</th>\n",
       "      <th>deaths_2021</th>\n",
       "    </tr>\n",
       "  </thead>\n",
       "  <tbody>\n",
       "    <tr>\n",
       "      <th>0</th>\n",
       "      <td>1.0</td>\n",
       "      <td>11156</td>\n",
       "    </tr>\n",
       "    <tr>\n",
       "      <th>1</th>\n",
       "      <td>1.0</td>\n",
       "      <td>352</td>\n",
       "    </tr>\n",
       "    <tr>\n",
       "      <th>2</th>\n",
       "      <td>1.0</td>\n",
       "      <td>17628</td>\n",
       "    </tr>\n",
       "    <tr>\n",
       "      <th>3</th>\n",
       "      <td>1.0</td>\n",
       "      <td>5834</td>\n",
       "    </tr>\n",
       "  </tbody>\n",
       "</table>\n",
       "</div>"
      ],
      "text/plain": [
       "   intercept  deaths_2021\n",
       "0        1.0        11156\n",
       "1        1.0          352\n",
       "2        1.0        17628\n",
       "3        1.0         5834"
      ]
     },
     "execution_count": 157,
     "metadata": {},
     "output_type": "execute_result"
    }
   ],
   "source": [
    "X = pd.DataFrame({'intercept': np.ones(june_cases_df.shape[0]),\n",
    "'deaths_2021': june_cases_df['deaths_2021']})\n",
    "X[:4]"
   ]
  },
  {
   "cell_type": "code",
   "execution_count": 166,
   "metadata": {},
   "outputs": [],
   "source": [
    "X = sm.add_constant(x)"
   ]
  },
  {
   "cell_type": "code",
   "execution_count": 167,
   "metadata": {},
   "outputs": [],
   "source": [
    "y = june_cases_df['deaths_2021']\n",
    "model = sm.OLS(y, X)\n",
    "results = model.fit()"
   ]
  },
  {
   "cell_type": "code",
   "execution_count": 169,
   "metadata": {},
   "outputs": [
    {
     "name": "stdout",
     "output_type": "stream",
     "text": [
      "                            OLS Regression Results                            \n",
      "==============================================================================\n",
      "Dep. Variable:            deaths_2021   R-squared:                       0.774\n",
      "Model:                            OLS   Adj. R-squared:                  0.765\n",
      "Method:                 Least Squares   F-statistic:                     88.93\n",
      "Date:                Wed, 02 Aug 2023   Prob (F-statistic):           1.65e-17\n",
      "Time:                        20:05:28   Log-Likelihood:                -560.41\n",
      "No. Observations:                  55   AIC:                             1127.\n",
      "Df Residuals:                      52   BIC:                             1133.\n",
      "Df Model:                           2                                         \n",
      "Covariance Type:            nonrobust                                         \n",
      "==============================================================================\n",
      "                 coef    std err          t      P>|t|      [0.025      0.975]\n",
      "------------------------------------------------------------------------------\n",
      "const       1547.3998   1141.703      1.355      0.181    -743.595    3838.395\n",
      "x1             0.6494      0.070      9.324      0.000       0.510       0.789\n",
      "x2            -6.4024      0.919     -6.966      0.000      -8.247      -4.558\n",
      "==============================================================================\n",
      "Omnibus:                        9.007   Durbin-Watson:                   2.220\n",
      "Prob(Omnibus):                  0.011   Jarque-Bera (JB):               13.322\n",
      "Skew:                           0.475   Prob(JB):                      0.00128\n",
      "Kurtosis:                       5.216   Cond. No.                     8.51e+04\n",
      "==============================================================================\n",
      "\n",
      "Warnings:\n",
      "[1] Standard Errors assume that the covariance matrix of the errors is correctly specified.\n",
      "[2] The condition number is large, 8.51e+04. This might indicate that there are\n",
      "strong multicollinearity or other numerical problems.\n"
     ]
    },
    {
     "data": {
      "text/plain": [
       "const    1547.399757\n",
       "x1          0.649414\n",
       "x2         -6.402419\n",
       "dtype: float64"
      ]
     },
     "execution_count": 169,
     "metadata": {},
     "output_type": "execute_result"
    }
   ],
   "source": [
    "print(results.summary())\n",
    "# results.params"
   ]
  },
  {
   "cell_type": "markdown",
   "metadata": {
    "id": "sdsYYSuy0Exu"
   },
   "source": []
  },
  {
   "cell_type": "markdown",
   "metadata": {
    "id": "ZFOuQGyn0E6w"
   },
   "source": [
    "## Conclusion\n"
   ]
  },
  {
   "cell_type": "markdown",
   "metadata": {
    "id": "cmcf2OJ40mm4"
   },
   "source": []
  },
  {
   "cell_type": "markdown",
   "metadata": {},
   "source": [
    "#### Conclusion: June 2020 cases and deaths predicts 2021 deaths quite well"
   ]
  },
  {
   "cell_type": "code",
   "execution_count": null,
   "metadata": {},
   "outputs": [],
   "source": []
  }
 ],
 "metadata": {
  "colab": {
   "collapsed_sections": [],
   "machine_shape": "hm",
   "name": "Chapter7-data-science.ipynb",
   "provenance": []
  },
  "kernelspec": {
   "display_name": "Python 3",
   "language": "python",
   "name": "python3"
  },
  "language_info": {
   "codemirror_mode": {
    "name": "ipython",
    "version": 3
   },
   "file_extension": ".py",
   "mimetype": "text/x-python",
   "name": "python",
   "nbconvert_exporter": "python",
   "pygments_lexer": "ipython3",
   "version": "3.7.6"
  }
 },
 "nbformat": 4,
 "nbformat_minor": 1
}
